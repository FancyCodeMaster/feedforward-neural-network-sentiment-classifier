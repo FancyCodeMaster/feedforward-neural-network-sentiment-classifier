{
 "cells": [
  {
   "cell_type": "code",
   "execution_count": 1,
   "metadata": {},
   "outputs": [],
   "source": [
    "import pandas as pd"
   ]
  },
  {
   "cell_type": "code",
   "execution_count": 2,
   "metadata": {},
   "outputs": [],
   "source": [
    "dataset = pd.read_csv('dataset/SentimentTweets.csv')"
   ]
  },
  {
   "cell_type": "code",
   "execution_count": 3,
   "metadata": {},
   "outputs": [
    {
     "data": {
      "text/plain": [
       "(1280000, 7)"
      ]
     },
     "execution_count": 3,
     "metadata": {},
     "output_type": "execute_result"
    }
   ],
   "source": [
    "dataset.shape"
   ]
  },
  {
   "cell_type": "code",
   "execution_count": 4,
   "metadata": {},
   "outputs": [
    {
     "data": {
      "text/html": [
       "<div>\n",
       "<style scoped>\n",
       "    .dataframe tbody tr th:only-of-type {\n",
       "        vertical-align: middle;\n",
       "    }\n",
       "\n",
       "    .dataframe tbody tr th {\n",
       "        vertical-align: top;\n",
       "    }\n",
       "\n",
       "    .dataframe thead th {\n",
       "        text-align: right;\n",
       "    }\n",
       "</style>\n",
       "<table border=\"1\" class=\"dataframe\">\n",
       "  <thead>\n",
       "    <tr style=\"text-align: right;\">\n",
       "      <th></th>\n",
       "      <th>Unnamed: 0</th>\n",
       "      <th>target</th>\n",
       "      <th>id</th>\n",
       "      <th>date</th>\n",
       "      <th>flag</th>\n",
       "      <th>user</th>\n",
       "      <th>text</th>\n",
       "    </tr>\n",
       "  </thead>\n",
       "  <tbody>\n",
       "    <tr>\n",
       "      <th>0</th>\n",
       "      <td>680949</td>\n",
       "      <td>0</td>\n",
       "      <td>2249621587</td>\n",
       "      <td>Fri Jun 19 22:41:08 PDT 2009</td>\n",
       "      <td>NO_QUERY</td>\n",
       "      <td>sukumarpant</td>\n",
       "      <td>#brokenpromises...</td>\n",
       "    </tr>\n",
       "    <tr>\n",
       "      <th>1</th>\n",
       "      <td>406741</td>\n",
       "      <td>0</td>\n",
       "      <td>2059003515</td>\n",
       "      <td>Sat Jun 06 16:03:21 PDT 2009</td>\n",
       "      <td>NO_QUERY</td>\n",
       "      <td>MTMSparrow</td>\n",
       "      <td>David Carradine  so sad. Thai's law not sure i...</td>\n",
       "    </tr>\n",
       "    <tr>\n",
       "      <th>2</th>\n",
       "      <td>1337108</td>\n",
       "      <td>4</td>\n",
       "      <td>2017466467</td>\n",
       "      <td>Wed Jun 03 08:26:14 PDT 2009</td>\n",
       "      <td>NO_QUERY</td>\n",
       "      <td>itsmemcee</td>\n",
       "      <td>A @ 415 B @ 425. Tell your bro i say congrats!</td>\n",
       "    </tr>\n",
       "    <tr>\n",
       "      <th>3</th>\n",
       "      <td>1560887</td>\n",
       "      <td>4</td>\n",
       "      <td>2186457254</td>\n",
       "      <td>Mon Jun 15 18:52:04 PDT 2009</td>\n",
       "      <td>NO_QUERY</td>\n",
       "      <td>jdfreivald</td>\n",
       "      <td>@littlefluffycat  Indeed.</td>\n",
       "    </tr>\n",
       "    <tr>\n",
       "      <th>4</th>\n",
       "      <td>1466295</td>\n",
       "      <td>4</td>\n",
       "      <td>2064458395</td>\n",
       "      <td>Sun Jun 07 06:19:20 PDT 2009</td>\n",
       "      <td>NO_QUERY</td>\n",
       "      <td>CrazyHan</td>\n",
       "      <td>Completed Race 4 Life in 58mins with girlies f...</td>\n",
       "    </tr>\n",
       "  </tbody>\n",
       "</table>\n",
       "</div>"
      ],
      "text/plain": [
       "   Unnamed: 0  target          id                          date      flag  \\\n",
       "0      680949       0  2249621587  Fri Jun 19 22:41:08 PDT 2009  NO_QUERY   \n",
       "1      406741       0  2059003515  Sat Jun 06 16:03:21 PDT 2009  NO_QUERY   \n",
       "2     1337108       4  2017466467  Wed Jun 03 08:26:14 PDT 2009  NO_QUERY   \n",
       "3     1560887       4  2186457254  Mon Jun 15 18:52:04 PDT 2009  NO_QUERY   \n",
       "4     1466295       4  2064458395  Sun Jun 07 06:19:20 PDT 2009  NO_QUERY   \n",
       "\n",
       "          user                                               text  \n",
       "0  sukumarpant                                #brokenpromises...   \n",
       "1   MTMSparrow  David Carradine  so sad. Thai's law not sure i...  \n",
       "2    itsmemcee    A @ 415 B @ 425. Tell your bro i say congrats!   \n",
       "3   jdfreivald                          @littlefluffycat  Indeed.  \n",
       "4     CrazyHan  Completed Race 4 Life in 58mins with girlies f...  "
      ]
     },
     "execution_count": 4,
     "metadata": {},
     "output_type": "execute_result"
    }
   ],
   "source": [
    "dataset.head()"
   ]
  },
  {
   "cell_type": "code",
   "execution_count": 5,
   "metadata": {},
   "outputs": [
    {
     "data": {
      "text/plain": [
       "Index(['Unnamed: 0', 'target', 'id', 'date', 'flag', 'user', 'text'], dtype='object')"
      ]
     },
     "execution_count": 5,
     "metadata": {},
     "output_type": "execute_result"
    }
   ],
   "source": [
    "dataset.columns"
   ]
  },
  {
   "cell_type": "code",
   "execution_count": 6,
   "metadata": {},
   "outputs": [
    {
     "data": {
      "text/html": [
       "<div>\n",
       "<style scoped>\n",
       "    .dataframe tbody tr th:only-of-type {\n",
       "        vertical-align: middle;\n",
       "    }\n",
       "\n",
       "    .dataframe tbody tr th {\n",
       "        vertical-align: top;\n",
       "    }\n",
       "\n",
       "    .dataframe thead th {\n",
       "        text-align: right;\n",
       "    }\n",
       "</style>\n",
       "<table border=\"1\" class=\"dataframe\">\n",
       "  <thead>\n",
       "    <tr style=\"text-align: right;\">\n",
       "      <th></th>\n",
       "      <th>Unnamed: 0</th>\n",
       "      <th>target</th>\n",
       "      <th>id</th>\n",
       "    </tr>\n",
       "  </thead>\n",
       "  <tbody>\n",
       "    <tr>\n",
       "      <th>count</th>\n",
       "      <td>1.280000e+06</td>\n",
       "      <td>1.280000e+06</td>\n",
       "      <td>1.280000e+06</td>\n",
       "    </tr>\n",
       "    <tr>\n",
       "      <th>mean</th>\n",
       "      <td>8.005338e+05</td>\n",
       "      <td>2.001903e+00</td>\n",
       "      <td>1.998854e+09</td>\n",
       "    </tr>\n",
       "    <tr>\n",
       "      <th>std</th>\n",
       "      <td>4.618635e+05</td>\n",
       "      <td>2.000000e+00</td>\n",
       "      <td>1.936169e+08</td>\n",
       "    </tr>\n",
       "    <tr>\n",
       "      <th>min</th>\n",
       "      <td>1.000000e+00</td>\n",
       "      <td>0.000000e+00</td>\n",
       "      <td>1.467811e+09</td>\n",
       "    </tr>\n",
       "    <tr>\n",
       "      <th>25%</th>\n",
       "      <td>4.009228e+05</td>\n",
       "      <td>0.000000e+00</td>\n",
       "      <td>1.956915e+09</td>\n",
       "    </tr>\n",
       "    <tr>\n",
       "      <th>50%</th>\n",
       "      <td>8.007465e+05</td>\n",
       "      <td>4.000000e+00</td>\n",
       "      <td>2.002132e+09</td>\n",
       "    </tr>\n",
       "    <tr>\n",
       "      <th>75%</th>\n",
       "      <td>1.200654e+06</td>\n",
       "      <td>4.000000e+00</td>\n",
       "      <td>2.177105e+09</td>\n",
       "    </tr>\n",
       "    <tr>\n",
       "      <th>max</th>\n",
       "      <td>1.599999e+06</td>\n",
       "      <td>4.000000e+00</td>\n",
       "      <td>2.329206e+09</td>\n",
       "    </tr>\n",
       "  </tbody>\n",
       "</table>\n",
       "</div>"
      ],
      "text/plain": [
       "         Unnamed: 0        target            id\n",
       "count  1.280000e+06  1.280000e+06  1.280000e+06\n",
       "mean   8.005338e+05  2.001903e+00  1.998854e+09\n",
       "std    4.618635e+05  2.000000e+00  1.936169e+08\n",
       "min    1.000000e+00  0.000000e+00  1.467811e+09\n",
       "25%    4.009228e+05  0.000000e+00  1.956915e+09\n",
       "50%    8.007465e+05  4.000000e+00  2.002132e+09\n",
       "75%    1.200654e+06  4.000000e+00  2.177105e+09\n",
       "max    1.599999e+06  4.000000e+00  2.329206e+09"
      ]
     },
     "execution_count": 6,
     "metadata": {},
     "output_type": "execute_result"
    }
   ],
   "source": [
    "dataset.describe()"
   ]
  },
  {
   "cell_type": "code",
   "execution_count": 7,
   "metadata": {},
   "outputs": [],
   "source": [
    "dataset = dataset.drop(['Unnamed: 0', 'id', 'date', 'flag', 'user'], axis=1)"
   ]
  },
  {
   "cell_type": "code",
   "execution_count": 8,
   "metadata": {},
   "outputs": [
    {
     "data": {
      "text/html": [
       "<div>\n",
       "<style scoped>\n",
       "    .dataframe tbody tr th:only-of-type {\n",
       "        vertical-align: middle;\n",
       "    }\n",
       "\n",
       "    .dataframe tbody tr th {\n",
       "        vertical-align: top;\n",
       "    }\n",
       "\n",
       "    .dataframe thead th {\n",
       "        text-align: right;\n",
       "    }\n",
       "</style>\n",
       "<table border=\"1\" class=\"dataframe\">\n",
       "  <thead>\n",
       "    <tr style=\"text-align: right;\">\n",
       "      <th></th>\n",
       "      <th>target</th>\n",
       "      <th>text</th>\n",
       "    </tr>\n",
       "  </thead>\n",
       "  <tbody>\n",
       "    <tr>\n",
       "      <th>0</th>\n",
       "      <td>0</td>\n",
       "      <td>#brokenpromises...</td>\n",
       "    </tr>\n",
       "    <tr>\n",
       "      <th>1</th>\n",
       "      <td>0</td>\n",
       "      <td>David Carradine  so sad. Thai's law not sure i...</td>\n",
       "    </tr>\n",
       "    <tr>\n",
       "      <th>2</th>\n",
       "      <td>4</td>\n",
       "      <td>A @ 415 B @ 425. Tell your bro i say congrats!</td>\n",
       "    </tr>\n",
       "    <tr>\n",
       "      <th>3</th>\n",
       "      <td>4</td>\n",
       "      <td>@littlefluffycat  Indeed.</td>\n",
       "    </tr>\n",
       "    <tr>\n",
       "      <th>4</th>\n",
       "      <td>4</td>\n",
       "      <td>Completed Race 4 Life in 58mins with girlies f...</td>\n",
       "    </tr>\n",
       "  </tbody>\n",
       "</table>\n",
       "</div>"
      ],
      "text/plain": [
       "   target                                               text\n",
       "0       0                                #brokenpromises... \n",
       "1       0  David Carradine  so sad. Thai's law not sure i...\n",
       "2       4    A @ 415 B @ 425. Tell your bro i say congrats! \n",
       "3       4                          @littlefluffycat  Indeed.\n",
       "4       4  Completed Race 4 Life in 58mins with girlies f..."
      ]
     },
     "execution_count": 8,
     "metadata": {},
     "output_type": "execute_result"
    }
   ],
   "source": [
    "dataset.head()"
   ]
  },
  {
   "cell_type": "code",
   "execution_count": 13,
   "metadata": {},
   "outputs": [
    {
     "name": "stdout",
     "output_type": "stream",
     "text": [
      "#brokenpromises... \n",
      "David Carradine  so sad. Thai's law not sure if it's fowl play? How many people hang themselves and tie their testicles?\n",
      "A @ 415 B @ 425. Tell your bro i say congrats! \n",
      "@littlefluffycat  Indeed.\n",
      "Completed Race 4 Life in 58mins with girlies from work... was fun but bloody hot!! Also bumped into some familiar faces  -well done guys!!\n",
      "Woot truck fixed!!! Now workin  http://myloc.me/4NiF\n",
      "@BLAQSHEEPCEO   yea I melt at that lol \n",
      "wants to do something radical...but not sure what that something is. \n",
      "@brlamb scratch that, @bgilgoff tweeted it. Channel is full!  #celc2009\n",
      "I am sore everywhere. Also found out an assessment i had today i actually should've had last week. That teacher hates me too \n"
     ]
    }
   ],
   "source": [
    "for i in range(10):\n",
    "    print(dataset.iloc[i]['text'])"
   ]
  },
  {
   "cell_type": "code",
   "execution_count": null,
   "metadata": {},
   "outputs": [],
   "source": []
  }
 ],
 "metadata": {
  "kernelspec": {
   "display_name": "senttwitter",
   "language": "python",
   "name": "python3"
  },
  "language_info": {
   "codemirror_mode": {
    "name": "ipython",
    "version": 3
   },
   "file_extension": ".py",
   "mimetype": "text/x-python",
   "name": "python",
   "nbconvert_exporter": "python",
   "pygments_lexer": "ipython3",
   "version": "3.10.15"
  }
 },
 "nbformat": 4,
 "nbformat_minor": 2
}
